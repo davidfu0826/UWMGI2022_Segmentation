{
 "cells": [
  {
   "cell_type": "code",
   "execution_count": 7,
   "id": "69ebff24-538c-4275-89d2-fbb56d71d3de",
   "metadata": {},
   "outputs": [],
   "source": [
    "import os\n",
    "import glob\n",
    "\n",
    "import cv2\n",
    "import pandas as pd\n",
    "import numpy as np\n",
    "\n",
    "import sys\n",
    "sys.path.insert(0, \"..\")\n",
    "\n",
    "from helper import get_mask, get_pivot_table"
   ]
  },
  {
   "cell_type": "code",
   "execution_count": 8,
   "id": "b8023621-8c11-4aa3-b979-c8ec7f6dc2af",
   "metadata": {},
   "outputs": [],
   "source": [
    "dataframe_path = \"../../Dataset/uw-madison-gi-tract-image-segmentation/train.csv\"\n",
    "img_paths = glob.glob(\"../../Dataset/uw-madison-gi-tract-image-segmentation/train/*/*/scans/*.png\")\n",
    "pivot_df = get_pivot_table(dataframe_path)"
   ]
  },
  {
   "cell_type": "code",
   "execution_count": 10,
   "id": "869c4e2c-0fb3-4408-83cd-d130c8fa4253",
   "metadata": {},
   "outputs": [],
   "source": [
    "path = img_paths[0]\n",
    "\n",
    "img = cv2.imread(path, -1)\n",
    "mask = get_mask(path, pivot_df)"
   ]
  },
  {
   "cell_type": "code",
   "execution_count": 11,
   "id": "0dcb50fa-91f6-4f88-9b83-bd594a52512d",
   "metadata": {},
   "outputs": [
    {
     "name": "stdout",
     "output_type": "stream",
     "text": [
      "(266, 266) (266, 266, 3)\n"
     ]
    }
   ],
   "source": [
    "print(img.shape, mask.shape)"
   ]
  },
  {
   "cell_type": "code",
   "execution_count": 5,
   "id": "037591f7-3a74-42a2-af2e-ffe62dea59e6",
   "metadata": {},
   "outputs": [],
   "source": []
  },
  {
   "cell_type": "code",
   "execution_count": 6,
   "id": "5cd60d54-022f-4700-9c92-46839923d64e",
   "metadata": {},
   "outputs": [
    {
     "name": "stdout",
     "output_type": "stream",
     "text": [
      "(266, 266, 3)\n"
     ]
    }
   ],
   "source": [
    "for img_path in img_paths:\n",
    "    mask = get_mask(img_path, pivot_df)\n",
    "    break\n",
    "print(mask.shape)"
   ]
  },
  {
   "cell_type": "code",
   "execution_count": 110,
   "id": "d76add7f-fb60-46cd-8ffe-905c09c18470",
   "metadata": {},
   "outputs": [
    {
     "data": {
      "text/plain": [
       "True"
      ]
     },
     "execution_count": 110,
     "metadata": {},
     "output_type": "execute_result"
    }
   ],
   "source": []
  },
  {
   "cell_type": "code",
   "execution_count": null,
   "id": "e1860d16-ec40-4bad-b50f-8814f40c4d1a",
   "metadata": {},
   "outputs": [],
   "source": []
  }
 ],
 "metadata": {
  "kernelspec": {
   "display_name": "Python 3 (ipykernel)",
   "language": "python",
   "name": "python3"
  },
  "language_info": {
   "codemirror_mode": {
    "name": "ipython",
    "version": 3
   },
   "file_extension": ".py",
   "mimetype": "text/x-python",
   "name": "python",
   "nbconvert_exporter": "python",
   "pygments_lexer": "ipython3",
   "version": "3.10.0"
  }
 },
 "nbformat": 4,
 "nbformat_minor": 5
}
