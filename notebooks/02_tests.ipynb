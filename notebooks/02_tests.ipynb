{
 "cells": [
  {
   "cell_type": "code",
   "execution_count": 21,
   "id": "ffb4b1eb-501c-4601-983f-66eb93c658f0",
   "metadata": {},
   "outputs": [],
   "source": [
    "import os, glob\n",
    "\n",
    "import pandas as pd\n",
    "from tqdm import tqdm\n",
    "\n",
    "import sys\n",
    "sys.path.insert(0, \"..\")\n",
    "\n",
    "from helper import rle_decode, rle_encode, id2filename, get_image_size_by_path"
   ]
  },
  {
   "cell_type": "code",
   "execution_count": 22,
   "id": "f7d2a3d7-9de3-4956-9da2-6e4037f8b253",
   "metadata": {},
   "outputs": [],
   "source": [
    "df = pd.read_csv(\"../../../Dataset/uw-madison-gi-tract-image-segmentation/train.csv\")"
   ]
  },
  {
   "cell_type": "code",
   "execution_count": 23,
   "id": "27f83aca-81a1-47e1-8f80-c36a63dc8a54",
   "metadata": {},
   "outputs": [],
   "source": [
    "df = df.dropna()"
   ]
  },
  {
   "cell_type": "code",
   "execution_count": 26,
   "id": "60a2b0f5-8f6c-499a-b013-9848958bc183",
   "metadata": {},
   "outputs": [
    {
     "name": "stderr",
     "output_type": "stream",
     "text": [
      "100%|███████████████████████████████████████████████████████████████████████████| 33913/33913 [03:42<00:00, 152.59it/s]\n"
     ]
    }
   ],
   "source": [
    "imgs = glob.glob(\"../../../Dataset/uw-madison-gi-tract-image-segmentation/train/*/*/scans/*.png\")\n",
    "for idx, row in tqdm(df.iterrows(), total=len(df)):\n",
    "    case_id = row[\"id\"]\n",
    "    img_path = id2filename(case_id, imgs)\n",
    "    h, w = get_image_size_by_path(img_path)\n",
    "    \n",
    "    val = row[\"segmentation\"]\n",
    "    assert val == rle_encode(rle_decode(val, shape=(h, w)))\n",
    "    print()\n"
   ]
  },
  {
   "cell_type": "code",
   "execution_count": null,
   "id": "ff51cf34-32b6-40d0-8fe4-9cbbd2f8b580",
   "metadata": {},
   "outputs": [],
   "source": []
  }
 ],
 "metadata": {
  "kernelspec": {
   "display_name": "Python 3",
   "language": "python",
   "name": "python3"
  },
  "language_info": {
   "codemirror_mode": {
    "name": "ipython",
    "version": 3
   },
   "file_extension": ".py",
   "mimetype": "text/x-python",
   "name": "python",
   "nbconvert_exporter": "python",
   "pygments_lexer": "ipython3",
   "version": "3.8.0"
  }
 },
 "nbformat": 4,
 "nbformat_minor": 5
}
