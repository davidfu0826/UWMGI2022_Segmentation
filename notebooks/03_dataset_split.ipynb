{
 "cells": [
  {
   "cell_type": "code",
   "execution_count": 95,
   "id": "19d51481-b5e0-4be3-9a57-c166a5975fb9",
   "metadata": {},
   "outputs": [],
   "source": [
    "import os\n",
    "import glob\n",
    "import random\n",
    "\n",
    "import cv2\n",
    "import pandas as pd\n",
    "import numpy as np\n",
    "import matplotlib.pyplot as plt\n",
    "from matplotlib.lines import Line2D\n",
    "from tqdm import tqdm\n",
    "\n",
    "import sys\n",
    "sys.path.insert(0, \"..\")\n",
    "\n",
    "from helper import get_mask, id2filename, create_metadata_table"
   ]
  },
  {
   "cell_type": "code",
   "execution_count": 96,
   "id": "1f2a9f40-a3e8-4730-9ca7-fdfe2a564785",
   "metadata": {},
   "outputs": [
    {
     "name": "stderr",
     "output_type": "stream",
     "text": [
      "100%|██████████████████████████████████████████████████████████████████████████| 38496/38496 [00:16<00:00, 2277.58it/s]\n"
     ]
    }
   ],
   "source": [
    "dataset_path = \"../../../Dataset/uw-madison-gi-tract-image-segmentation/\"\n",
    "df = create_metadata_table(dataset_path)"
   ]
  },
  {
   "cell_type": "code",
   "execution_count": 97,
   "id": "d2e1640c-a2fb-42e9-b0dc-ac4379d6d254",
   "metadata": {},
   "outputs": [
    {
     "data": {
      "text/plain": [
       "274"
      ]
     },
     "execution_count": 97,
     "metadata": {},
     "output_type": "execute_result"
    }
   ],
   "source": [
    "case_days = df[\"case_day\"].unique()\n",
    "case_days.sort()\n",
    "len(case_days)"
   ]
  },
  {
   "cell_type": "code",
   "execution_count": 98,
   "id": "ed44ecaf-1ca6-4e9b-878e-d9dfb52fb476",
   "metadata": {},
   "outputs": [
    {
     "data": {
      "text/plain": [
       "case\n",
       "case101    [case101_day20, case101_day22, case101_day26, ...\n",
       "case102                                       [case102_day0]\n",
       "case107         [case107_day0, case107_day19, case107_day21]\n",
       "case108         [case108_day0, case108_day10, case108_day13]\n",
       "case11             [case11_day0, case11_day12, case11_day13]\n",
       "                                 ...                        \n",
       "case89     [case89_day0, case89_day17, case89_day19, case...\n",
       "case9                 [case9_day0, case9_day20, case9_day22]\n",
       "case90             [case90_day0, case90_day22, case90_day29]\n",
       "case91                                         [case91_day0]\n",
       "case92                                         [case92_day0]\n",
       "Name: case_day, Length: 85, dtype: object"
      ]
     },
     "execution_count": 98,
     "metadata": {},
     "output_type": "execute_result"
    }
   ],
   "source": [
    "df.groupby(\"case\")[\"case_day\"].unique()"
   ]
  },
  {
   "cell_type": "code",
   "execution_count": 99,
   "id": "d73aa4de-3d72-4654-bb9a-4f7c27b3ccec",
   "metadata": {},
   "outputs": [
    {
     "name": "stdout",
     "output_type": "stream",
     "text": [
      "3.223529411764706 274\n"
     ]
    }
   ],
   "source": [
    "nunique = df.groupby(\"case\")[\"case_day\"].nunique()\n",
    "print(nunique.mean(), nunique.sum())"
   ]
  },
  {
   "cell_type": "markdown",
   "id": "268be4e3-e745-4377-8692-00db45619280",
   "metadata": {},
   "source": [
    "Test has around 50 cases. Let's assume test set has around\n",
    "\n",
    "50 * 3 = 150 case_days'"
   ]
  },
  {
   "cell_type": "code",
   "execution_count": 100,
   "id": "aa5e243b-6105-4c48-a8e0-7b3d3881245e",
   "metadata": {},
   "outputs": [
    {
     "data": {
      "text/plain": [
       "274"
      ]
     },
     "execution_count": 100,
     "metadata": {},
     "output_type": "execute_result"
    }
   ],
   "source": [
    "nunique.sum()"
   ]
  },
  {
   "cell_type": "code",
   "execution_count": 101,
   "id": "d97b59aa-eba0-48d2-b827-dc0bba054f5a",
   "metadata": {},
   "outputs": [
    {
     "name": "stdout",
     "output_type": "stream",
     "text": [
      "Training ratio: 0.6462264150943396 \n",
      "Number of training cases: 177 \n",
      "Number of test cases: 97\n"
     ]
    }
   ],
   "source": [
    "train_ratio = nunique.sum() / ( nunique.sum() + 150 )\n",
    "print(\"Training ratio:\", train_ratio, \n",
    "      \"\\nNumber of training cases:\", round(train_ratio*274),\n",
    "     \"\\nNumber of test cases:\", round((1-train_ratio)*274))"
   ]
  },
  {
   "cell_type": "markdown",
   "id": "b93d49eb-e130-4798-8323-0c86ec79fb97",
   "metadata": {},
   "source": [
    "Lets divide the training data into different folds!"
   ]
  },
  {
   "cell_type": "code",
   "execution_count": 102,
   "id": "da74e994-bf23-49c4-be69-3de71cf385f4",
   "metadata": {},
   "outputs": [],
   "source": [
    "folds = list()\n",
    "fold = list()\n",
    "counter = 0\n",
    "cases = df.groupby(\"case\")[\"scan_dir_path\"].unique()\n",
    "cases = cases.sample(frac=1).reset_index(drop=True) # Shuffle\n",
    "for case_days in cases:\n",
    "    \n",
    "    fold.append(case_days)\n",
    "    \n",
    "    if counter > 12:\n",
    "        counter = 0\n",
    "        folds.append(fold)\n",
    "        fold = list()\n",
    "    else:    \n",
    "        counter += 1\n",
    "folds[-1] += fold"
   ]
  },
  {
   "cell_type": "code",
   "execution_count": 103,
   "id": "ce9be8c4-1d3f-43ca-be32-2c3b68ba2695",
   "metadata": {},
   "outputs": [
    {
     "name": "stdout",
     "output_type": "stream",
     "text": [
      "Number of cases \tNumber of scans \tNumber of images\n",
      "14 \t\t\t43 \t\t\t6064\n",
      "14 \t\t\t42 \t\t\t6048\n",
      "14 \t\t\t52 \t\t\t7424\n",
      "14 \t\t\t43 \t\t\t5872\n",
      "14 \t\t\t48 \t\t\t6912\n",
      "15 \t\t\t46 \t\t\t6176\n"
     ]
    }
   ],
   "source": [
    "print(\"Number of cases\", \"\\tNumber of scans\", \"\\tNumber of images\")\n",
    "for fold in folds:\n",
    "    num_of_scans = sum([len (case_days) for case_days in fold])\n",
    "    num_of_images = sum([sum ([len(os.listdir(case_day)) for case_day in case_days]) for case_days in fold])\n",
    "    print(len(fold), \"\\t\\t\\t\" + str(num_of_scans), \"\\t\\t\\t\" + str(num_of_images))"
   ]
  },
  {
   "cell_type": "code",
   "execution_count": null,
   "id": "72636b07-d0a9-40e7-b457-e3e5a07e01ca",
   "metadata": {},
   "outputs": [],
   "source": []
  },
  {
   "cell_type": "code",
   "execution_count": 104,
   "id": "42eedb00-e7d2-4ec3-8b1a-da905b5f384b",
   "metadata": {},
   "outputs": [
    {
     "data": {
      "text/html": [
       "<div>\n",
       "<style scoped>\n",
       "    .dataframe tbody tr th:only-of-type {\n",
       "        vertical-align: middle;\n",
       "    }\n",
       "\n",
       "    .dataframe tbody tr th {\n",
       "        vertical-align: top;\n",
       "    }\n",
       "\n",
       "    .dataframe thead th {\n",
       "        text-align: right;\n",
       "    }\n",
       "</style>\n",
       "<table border=\"1\" class=\"dataframe\">\n",
       "  <thead>\n",
       "    <tr style=\"text-align: right;\">\n",
       "      <th></th>\n",
       "      <th>id</th>\n",
       "      <th>large_bowel</th>\n",
       "      <th>small_bowel</th>\n",
       "      <th>stomach</th>\n",
       "      <th>sliceHeight</th>\n",
       "      <th>sliceWidth</th>\n",
       "      <th>pixelSpacingHeight</th>\n",
       "      <th>pixelSpacingWidth</th>\n",
       "      <th>num_slices</th>\n",
       "      <th>case</th>\n",
       "      <th>case_day</th>\n",
       "      <th>img_path</th>\n",
       "      <th>scan_dir_path</th>\n",
       "      <th>case_path</th>\n",
       "    </tr>\n",
       "  </thead>\n",
       "  <tbody>\n",
       "    <tr>\n",
       "      <th>0</th>\n",
       "      <td>case101_day20_slice_0001</td>\n",
       "      <td>NaN</td>\n",
       "      <td>NaN</td>\n",
       "      <td>NaN</td>\n",
       "      <td>266</td>\n",
       "      <td>266</td>\n",
       "      <td>1.5</td>\n",
       "      <td>1.5</td>\n",
       "      <td>144</td>\n",
       "      <td>case101</td>\n",
       "      <td>case101_day20</td>\n",
       "      <td>../../../Dataset/uw-madison-gi-tract-image-seg...</td>\n",
       "      <td>../../../Dataset/uw-madison-gi-tract-image-seg...</td>\n",
       "      <td>../../../Dataset/uw-madison-gi-tract-image-seg...</td>\n",
       "    </tr>\n",
       "    <tr>\n",
       "      <th>1</th>\n",
       "      <td>case101_day20_slice_0002</td>\n",
       "      <td>NaN</td>\n",
       "      <td>NaN</td>\n",
       "      <td>NaN</td>\n",
       "      <td>266</td>\n",
       "      <td>266</td>\n",
       "      <td>1.5</td>\n",
       "      <td>1.5</td>\n",
       "      <td>144</td>\n",
       "      <td>case101</td>\n",
       "      <td>case101_day20</td>\n",
       "      <td>../../../Dataset/uw-madison-gi-tract-image-seg...</td>\n",
       "      <td>../../../Dataset/uw-madison-gi-tract-image-seg...</td>\n",
       "      <td>../../../Dataset/uw-madison-gi-tract-image-seg...</td>\n",
       "    </tr>\n",
       "    <tr>\n",
       "      <th>2</th>\n",
       "      <td>case101_day20_slice_0003</td>\n",
       "      <td>NaN</td>\n",
       "      <td>NaN</td>\n",
       "      <td>NaN</td>\n",
       "      <td>266</td>\n",
       "      <td>266</td>\n",
       "      <td>1.5</td>\n",
       "      <td>1.5</td>\n",
       "      <td>144</td>\n",
       "      <td>case101</td>\n",
       "      <td>case101_day20</td>\n",
       "      <td>../../../Dataset/uw-madison-gi-tract-image-seg...</td>\n",
       "      <td>../../../Dataset/uw-madison-gi-tract-image-seg...</td>\n",
       "      <td>../../../Dataset/uw-madison-gi-tract-image-seg...</td>\n",
       "    </tr>\n",
       "    <tr>\n",
       "      <th>3</th>\n",
       "      <td>case101_day20_slice_0004</td>\n",
       "      <td>NaN</td>\n",
       "      <td>NaN</td>\n",
       "      <td>NaN</td>\n",
       "      <td>266</td>\n",
       "      <td>266</td>\n",
       "      <td>1.5</td>\n",
       "      <td>1.5</td>\n",
       "      <td>144</td>\n",
       "      <td>case101</td>\n",
       "      <td>case101_day20</td>\n",
       "      <td>../../../Dataset/uw-madison-gi-tract-image-seg...</td>\n",
       "      <td>../../../Dataset/uw-madison-gi-tract-image-seg...</td>\n",
       "      <td>../../../Dataset/uw-madison-gi-tract-image-seg...</td>\n",
       "    </tr>\n",
       "    <tr>\n",
       "      <th>4</th>\n",
       "      <td>case101_day20_slice_0005</td>\n",
       "      <td>NaN</td>\n",
       "      <td>NaN</td>\n",
       "      <td>NaN</td>\n",
       "      <td>266</td>\n",
       "      <td>266</td>\n",
       "      <td>1.5</td>\n",
       "      <td>1.5</td>\n",
       "      <td>144</td>\n",
       "      <td>case101</td>\n",
       "      <td>case101_day20</td>\n",
       "      <td>../../../Dataset/uw-madison-gi-tract-image-seg...</td>\n",
       "      <td>../../../Dataset/uw-madison-gi-tract-image-seg...</td>\n",
       "      <td>../../../Dataset/uw-madison-gi-tract-image-seg...</td>\n",
       "    </tr>\n",
       "  </tbody>\n",
       "</table>\n",
       "</div>"
      ],
      "text/plain": [
       "                         id large_bowel small_bowel stomach  sliceHeight  \\\n",
       "0  case101_day20_slice_0001         NaN         NaN     NaN          266   \n",
       "1  case101_day20_slice_0002         NaN         NaN     NaN          266   \n",
       "2  case101_day20_slice_0003         NaN         NaN     NaN          266   \n",
       "3  case101_day20_slice_0004         NaN         NaN     NaN          266   \n",
       "4  case101_day20_slice_0005         NaN         NaN     NaN          266   \n",
       "\n",
       "   sliceWidth  pixelSpacingHeight  pixelSpacingWidth  num_slices     case  \\\n",
       "0         266                 1.5                1.5         144  case101   \n",
       "1         266                 1.5                1.5         144  case101   \n",
       "2         266                 1.5                1.5         144  case101   \n",
       "3         266                 1.5                1.5         144  case101   \n",
       "4         266                 1.5                1.5         144  case101   \n",
       "\n",
       "        case_day                                           img_path  \\\n",
       "0  case101_day20  ../../../Dataset/uw-madison-gi-tract-image-seg...   \n",
       "1  case101_day20  ../../../Dataset/uw-madison-gi-tract-image-seg...   \n",
       "2  case101_day20  ../../../Dataset/uw-madison-gi-tract-image-seg...   \n",
       "3  case101_day20  ../../../Dataset/uw-madison-gi-tract-image-seg...   \n",
       "4  case101_day20  ../../../Dataset/uw-madison-gi-tract-image-seg...   \n",
       "\n",
       "                                       scan_dir_path  \\\n",
       "0  ../../../Dataset/uw-madison-gi-tract-image-seg...   \n",
       "1  ../../../Dataset/uw-madison-gi-tract-image-seg...   \n",
       "2  ../../../Dataset/uw-madison-gi-tract-image-seg...   \n",
       "3  ../../../Dataset/uw-madison-gi-tract-image-seg...   \n",
       "4  ../../../Dataset/uw-madison-gi-tract-image-seg...   \n",
       "\n",
       "                                           case_path  \n",
       "0  ../../../Dataset/uw-madison-gi-tract-image-seg...  \n",
       "1  ../../../Dataset/uw-madison-gi-tract-image-seg...  \n",
       "2  ../../../Dataset/uw-madison-gi-tract-image-seg...  \n",
       "3  ../../../Dataset/uw-madison-gi-tract-image-seg...  \n",
       "4  ../../../Dataset/uw-madison-gi-tract-image-seg...  "
      ]
     },
     "execution_count": 104,
     "metadata": {},
     "output_type": "execute_result"
    }
   ],
   "source": [
    "df.head()"
   ]
  },
  {
   "cell_type": "code",
   "execution_count": 105,
   "id": "9b332f97-cefa-4233-8246-8039ff421123",
   "metadata": {},
   "outputs": [
    {
     "name": "stderr",
     "output_type": "stream",
     "text": [
      "100%|██████████████████████████████████████████████████████████████████████████████████| 14/14 [00:32<00:00,  2.33s/it]\n",
      "100%|██████████████████████████████████████████████████████████████████████████████████| 14/14 [00:30<00:00,  2.17s/it]\n",
      "100%|██████████████████████████████████████████████████████████████████████████████████| 14/14 [00:38<00:00,  2.74s/it]\n",
      "100%|██████████████████████████████████████████████████████████████████████████████████| 14/14 [00:30<00:00,  2.18s/it]\n",
      "100%|██████████████████████████████████████████████████████████████████████████████████| 14/14 [00:35<00:00,  2.55s/it]\n",
      "100%|██████████████████████████████████████████████████████████████████████████████████| 15/15 [00:35<00:00,  2.38s/it]\n"
     ]
    }
   ],
   "source": [
    "from pathlib import Path\n",
    "from shutil import copytree\n",
    "\n",
    "save_loc = \"../data/02_intermediate\"\n",
    "cases =  list()\n",
    "tot = 0\n",
    "for i, fold in enumerate(folds):\n",
    "    dirname = f\"fold_{str(i).rjust(2, '0')}\"\n",
    "    save_path = os.path.join(save_loc, dirname)\n",
    "    Path(save_path).mkdir(exist_ok=True, parents=True)\n",
    "    \n",
    "    fold_case_paths = [next(iter(set([os.sep.join(case_day.split(os.sep)[:-2]) for case_day in case_days]))) for case_days in fold]\n",
    "    \n",
    "    cases += fold_case_paths\n",
    "    tot += len(fold_case_paths)\n",
    "    assert len(set(cases)) == tot\n",
    "    \n",
    "    for fold_case_path in tqdm(fold_case_paths):\n",
    "        \"\"\"\n",
    "        Move 'fold_case_path' to 'save_path'\n",
    "        \"\"\"\n",
    "        copytree(fold_case_path, os.path.join(save_path, os.path.basename(fold_case_path)))"
   ]
  },
  {
   "cell_type": "code",
   "execution_count": 44,
   "id": "f4392d5e-46ce-49e6-abd3-9a8d2ba36514",
   "metadata": {},
   "outputs": [
    {
     "ename": "NameError",
     "evalue": "name 'scan_dir_path' is not defined",
     "output_type": "error",
     "traceback": [
      "\u001b[1;31m---------------------------------------------------------------------------\u001b[0m",
      "\u001b[1;31mNameError\u001b[0m                                 Traceback (most recent call last)",
      "Input \u001b[1;32mIn [44]\u001b[0m, in \u001b[0;36m<cell line: 1>\u001b[1;34m()\u001b[0m\n\u001b[1;32m----> 1\u001b[0m \u001b[43mscan_dir_path\u001b[49m\n",
      "\u001b[1;31mNameError\u001b[0m: name 'scan_dir_path' is not defined"
     ]
    }
   ],
   "source": []
  },
  {
   "cell_type": "code",
   "execution_count": null,
   "id": "b3d6609c-7022-4874-9791-0babb5ccdd91",
   "metadata": {},
   "outputs": [],
   "source": []
  }
 ],
 "metadata": {
  "kernelspec": {
   "display_name": "Python 3",
   "language": "python",
   "name": "python3"
  },
  "language_info": {
   "codemirror_mode": {
    "name": "ipython",
    "version": 3
   },
   "file_extension": ".py",
   "mimetype": "text/x-python",
   "name": "python",
   "nbconvert_exporter": "python",
   "pygments_lexer": "ipython3",
   "version": "3.10.4"
  }
 },
 "nbformat": 4,
 "nbformat_minor": 5
}
