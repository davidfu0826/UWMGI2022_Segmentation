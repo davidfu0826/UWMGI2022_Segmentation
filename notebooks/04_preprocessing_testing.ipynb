{
 "cells": [
  {
   "cell_type": "code",
   "execution_count": 1,
   "id": "6e806a82-48cd-4915-b4df-12147a2e0064",
   "metadata": {},
   "outputs": [],
   "source": [
    "import sys\n",
    "sys.path.insert(0, \"..\")\n",
    "\n",
    "import cv2\n",
    "import numpy as np\n",
    "from albumentations.augmentations.crops.transforms import CropAndPad, Crop \n",
    "\n",
    "from helper import create_metadata_table"
   ]
  },
  {
   "cell_type": "code",
   "execution_count": 2,
   "id": "b542d70c-f95a-42db-9dea-f81e5a619f13",
   "metadata": {},
   "outputs": [
    {
     "name": "stderr",
     "output_type": "stream",
     "text": [
      "100%|██████████████████████████████████████████████████████████████████████████| 38496/38496 [00:16<00:00, 2362.02it/s]\n"
     ]
    }
   ],
   "source": [
    "dataset_path = \"../../../Dataset/uw-madison-gi-tract-image-segmentation/\"\n",
    "df = create_metadata_table(dataset_path)"
   ]
  },
  {
   "cell_type": "code",
   "execution_count": 3,
   "id": "54370d61-4698-481c-988e-8ec80115895d",
   "metadata": {},
   "outputs": [],
   "source": [
    "img_path = df[\"img_path\"].sample(1)"
   ]
  },
  {
   "cell_type": "code",
   "execution_count": 4,
   "id": "35f9d520-8515-492f-9ee9-6a90b6672e72",
   "metadata": {},
   "outputs": [
    {
     "name": "stdout",
     "output_type": "stream",
     "text": [
      "(266, 266)\n"
     ]
    }
   ],
   "source": [
    "img = cv2.imread(img_path.item(), -1)\n",
    "print(img.shape)"
   ]
  },
  {
   "cell_type": "code",
   "execution_count": 5,
   "id": "267c44d9-3956-4f6c-bfcf-184a826faeb3",
   "metadata": {},
   "outputs": [
    {
     "name": "stdout",
     "output_type": "stream",
     "text": [
      "(654, 653)\n"
     ]
    }
   ],
   "source": [
    "res = CropAndPad(px=(0, 240), keep_size=False)(image=img)\n",
    "print(res['image'].shape)\n",
    "\n"
   ]
  },
  {
   "cell_type": "code",
   "execution_count": 6,
   "id": "39feb4e7-fd73-4087-adcc-556dd57dc07e",
   "metadata": {},
   "outputs": [
    {
     "ename": "ValueError",
     "evalue": "Values for crop should be non negative and equal or smaller than image sizes(x_min = 0, y_min = 0, x_max = 1024, y_max = 1024, height = 266, width = 266)",
     "output_type": "error",
     "traceback": [
      "\u001b[1;31m---------------------------------------------------------------------------\u001b[0m",
      "\u001b[1;31mValueError\u001b[0m                                Traceback (most recent call last)",
      "Input \u001b[1;32mIn [6]\u001b[0m, in \u001b[0;36m<cell line: 1>\u001b[1;34m()\u001b[0m\n\u001b[1;32m----> 1\u001b[0m res \u001b[38;5;241m=\u001b[39m \u001b[43mCrop\u001b[49m\u001b[43m(\u001b[49m\u001b[43m)\u001b[49m\u001b[43m(\u001b[49m\u001b[43mimage\u001b[49m\u001b[38;5;241;43m=\u001b[39;49m\u001b[43mimg\u001b[49m\u001b[43m)\u001b[49m\n\u001b[0;32m      2\u001b[0m \u001b[38;5;28mprint\u001b[39m(res[\u001b[38;5;124m'\u001b[39m\u001b[38;5;124mimage\u001b[39m\u001b[38;5;124m'\u001b[39m]\u001b[38;5;241m.\u001b[39mshape)\n",
      "File \u001b[1;32m~\\AppData\\Roaming\\Python\\Python310\\site-packages\\albumentations\\core\\transforms_interface.py:97\u001b[0m, in \u001b[0;36mBasicTransform.__call__\u001b[1;34m(self, force_apply, *args, **kwargs)\u001b[0m\n\u001b[0;32m     92\u001b[0m             warn(\n\u001b[0;32m     93\u001b[0m                 \u001b[38;5;28mself\u001b[39m\u001b[38;5;241m.\u001b[39mget_class_fullname() \u001b[38;5;241m+\u001b[39m \u001b[38;5;124m\"\u001b[39m\u001b[38;5;124m could work incorrectly in ReplayMode for other input data\u001b[39m\u001b[38;5;124m\"\u001b[39m\n\u001b[0;32m     94\u001b[0m                 \u001b[38;5;124m\"\u001b[39m\u001b[38;5;124m because its\u001b[39m\u001b[38;5;124m'\u001b[39m\u001b[38;5;124m params depend on targets.\u001b[39m\u001b[38;5;124m\"\u001b[39m\n\u001b[0;32m     95\u001b[0m             )\n\u001b[0;32m     96\u001b[0m         kwargs[\u001b[38;5;28mself\u001b[39m\u001b[38;5;241m.\u001b[39msave_key][\u001b[38;5;28mid\u001b[39m(\u001b[38;5;28mself\u001b[39m)] \u001b[38;5;241m=\u001b[39m deepcopy(params)\n\u001b[1;32m---> 97\u001b[0m     \u001b[38;5;28;01mreturn\u001b[39;00m \u001b[38;5;28mself\u001b[39m\u001b[38;5;241m.\u001b[39mapply_with_params(params, \u001b[38;5;241m*\u001b[39m\u001b[38;5;241m*\u001b[39mkwargs)\n\u001b[0;32m     99\u001b[0m \u001b[38;5;28;01mreturn\u001b[39;00m kwargs\n",
      "File \u001b[1;32m~\\AppData\\Roaming\\Python\\Python310\\site-packages\\albumentations\\core\\transforms_interface.py:112\u001b[0m, in \u001b[0;36mBasicTransform.apply_with_params\u001b[1;34m(self, params, force_apply, **kwargs)\u001b[0m\n\u001b[0;32m    110\u001b[0m     target_function \u001b[38;5;241m=\u001b[39m \u001b[38;5;28mself\u001b[39m\u001b[38;5;241m.\u001b[39m_get_target_function(key)\n\u001b[0;32m    111\u001b[0m     target_dependencies \u001b[38;5;241m=\u001b[39m {k: kwargs[k] \u001b[38;5;28;01mfor\u001b[39;00m k \u001b[38;5;129;01min\u001b[39;00m \u001b[38;5;28mself\u001b[39m\u001b[38;5;241m.\u001b[39mtarget_dependence\u001b[38;5;241m.\u001b[39mget(key, [])}\n\u001b[1;32m--> 112\u001b[0m     res[key] \u001b[38;5;241m=\u001b[39m target_function(arg, \u001b[38;5;241m*\u001b[39m\u001b[38;5;241m*\u001b[39m\u001b[38;5;28mdict\u001b[39m(params, \u001b[38;5;241m*\u001b[39m\u001b[38;5;241m*\u001b[39mtarget_dependencies))\n\u001b[0;32m    113\u001b[0m \u001b[38;5;28;01melse\u001b[39;00m:\n\u001b[0;32m    114\u001b[0m     res[key] \u001b[38;5;241m=\u001b[39m \u001b[38;5;28;01mNone\u001b[39;00m\n",
      "File \u001b[1;32m~\\AppData\\Roaming\\Python\\Python310\\site-packages\\albumentations\\augmentations\\crops\\transforms.py:125\u001b[0m, in \u001b[0;36mCrop.apply\u001b[1;34m(self, img, **params)\u001b[0m\n\u001b[0;32m    124\u001b[0m \u001b[38;5;28;01mdef\u001b[39;00m \u001b[38;5;21mapply\u001b[39m(\u001b[38;5;28mself\u001b[39m, img, \u001b[38;5;241m*\u001b[39m\u001b[38;5;241m*\u001b[39mparams):\n\u001b[1;32m--> 125\u001b[0m     \u001b[38;5;28;01mreturn\u001b[39;00m \u001b[43mF\u001b[49m\u001b[38;5;241;43m.\u001b[39;49m\u001b[43mcrop\u001b[49m\u001b[43m(\u001b[49m\u001b[43mimg\u001b[49m\u001b[43m,\u001b[49m\u001b[43m \u001b[49m\u001b[43mx_min\u001b[49m\u001b[38;5;241;43m=\u001b[39;49m\u001b[38;5;28;43mself\u001b[39;49m\u001b[38;5;241;43m.\u001b[39;49m\u001b[43mx_min\u001b[49m\u001b[43m,\u001b[49m\u001b[43m \u001b[49m\u001b[43my_min\u001b[49m\u001b[38;5;241;43m=\u001b[39;49m\u001b[38;5;28;43mself\u001b[39;49m\u001b[38;5;241;43m.\u001b[39;49m\u001b[43my_min\u001b[49m\u001b[43m,\u001b[49m\u001b[43m \u001b[49m\u001b[43mx_max\u001b[49m\u001b[38;5;241;43m=\u001b[39;49m\u001b[38;5;28;43mself\u001b[39;49m\u001b[38;5;241;43m.\u001b[39;49m\u001b[43mx_max\u001b[49m\u001b[43m,\u001b[49m\u001b[43m \u001b[49m\u001b[43my_max\u001b[49m\u001b[38;5;241;43m=\u001b[39;49m\u001b[38;5;28;43mself\u001b[39;49m\u001b[38;5;241;43m.\u001b[39;49m\u001b[43my_max\u001b[49m\u001b[43m)\u001b[49m\n",
      "File \u001b[1;32m~\\AppData\\Roaming\\Python\\Python310\\site-packages\\albumentations\\augmentations\\crops\\functional.py:163\u001b[0m, in \u001b[0;36mcrop\u001b[1;34m(img, x_min, y_min, x_max, y_max)\u001b[0m\n\u001b[0;32m    155\u001b[0m     \u001b[38;5;28;01mraise\u001b[39;00m \u001b[38;5;167;01mValueError\u001b[39;00m(\n\u001b[0;32m    156\u001b[0m         \u001b[38;5;124m\"\u001b[39m\u001b[38;5;124mWe should have x_min < x_max and y_min < y_max. But we got\u001b[39m\u001b[38;5;124m\"\u001b[39m\n\u001b[0;32m    157\u001b[0m         \u001b[38;5;124m\"\u001b[39m\u001b[38;5;124m (x_min = \u001b[39m\u001b[38;5;132;01m{x_min}\u001b[39;00m\u001b[38;5;124m, y_min = \u001b[39m\u001b[38;5;132;01m{y_min}\u001b[39;00m\u001b[38;5;124m, x_max = \u001b[39m\u001b[38;5;132;01m{x_max}\u001b[39;00m\u001b[38;5;124m, y_max = \u001b[39m\u001b[38;5;132;01m{y_max}\u001b[39;00m\u001b[38;5;124m)\u001b[39m\u001b[38;5;124m\"\u001b[39m\u001b[38;5;241m.\u001b[39mformat(\n\u001b[0;32m    158\u001b[0m             x_min\u001b[38;5;241m=\u001b[39mx_min, x_max\u001b[38;5;241m=\u001b[39mx_max, y_min\u001b[38;5;241m=\u001b[39my_min, y_max\u001b[38;5;241m=\u001b[39my_max\n\u001b[0;32m    159\u001b[0m         )\n\u001b[0;32m    160\u001b[0m     )\n\u001b[0;32m    162\u001b[0m \u001b[38;5;28;01mif\u001b[39;00m x_min \u001b[38;5;241m<\u001b[39m \u001b[38;5;241m0\u001b[39m \u001b[38;5;129;01mor\u001b[39;00m x_max \u001b[38;5;241m>\u001b[39m width \u001b[38;5;129;01mor\u001b[39;00m y_min \u001b[38;5;241m<\u001b[39m \u001b[38;5;241m0\u001b[39m \u001b[38;5;129;01mor\u001b[39;00m y_max \u001b[38;5;241m>\u001b[39m height:\n\u001b[1;32m--> 163\u001b[0m     \u001b[38;5;28;01mraise\u001b[39;00m \u001b[38;5;167;01mValueError\u001b[39;00m(\n\u001b[0;32m    164\u001b[0m         \u001b[38;5;124m\"\u001b[39m\u001b[38;5;124mValues for crop should be non negative and equal or smaller than image sizes\u001b[39m\u001b[38;5;124m\"\u001b[39m\n\u001b[0;32m    165\u001b[0m         \u001b[38;5;124m\"\u001b[39m\u001b[38;5;124m(x_min = \u001b[39m\u001b[38;5;132;01m{x_min}\u001b[39;00m\u001b[38;5;124m, y_min = \u001b[39m\u001b[38;5;132;01m{y_min}\u001b[39;00m\u001b[38;5;124m, x_max = \u001b[39m\u001b[38;5;132;01m{x_max}\u001b[39;00m\u001b[38;5;124m, y_max = \u001b[39m\u001b[38;5;132;01m{y_max}\u001b[39;00m\u001b[38;5;124m, \u001b[39m\u001b[38;5;124m\"\u001b[39m\n\u001b[0;32m    166\u001b[0m         \u001b[38;5;124m\"\u001b[39m\u001b[38;5;124mheight = \u001b[39m\u001b[38;5;132;01m{height}\u001b[39;00m\u001b[38;5;124m, width = \u001b[39m\u001b[38;5;132;01m{width}\u001b[39;00m\u001b[38;5;124m)\u001b[39m\u001b[38;5;124m\"\u001b[39m\u001b[38;5;241m.\u001b[39mformat(\n\u001b[0;32m    167\u001b[0m             x_min\u001b[38;5;241m=\u001b[39mx_min, x_max\u001b[38;5;241m=\u001b[39mx_max, y_min\u001b[38;5;241m=\u001b[39my_min, y_max\u001b[38;5;241m=\u001b[39my_max, height\u001b[38;5;241m=\u001b[39mheight, width\u001b[38;5;241m=\u001b[39mwidth\n\u001b[0;32m    168\u001b[0m         )\n\u001b[0;32m    169\u001b[0m     )\n\u001b[0;32m    171\u001b[0m \u001b[38;5;28;01mreturn\u001b[39;00m img[y_min:y_max, x_min:x_max]\n",
      "\u001b[1;31mValueError\u001b[0m: Values for crop should be non negative and equal or smaller than image sizes(x_min = 0, y_min = 0, x_max = 1024, y_max = 1024, height = 266, width = 266)"
     ]
    }
   ],
   "source": [
    "res = Crop()(image=img)\n",
    "print(res['image'].shape)\n",
    "\n"
   ]
  },
  {
   "cell_type": "code",
   "execution_count": 8,
   "id": "49ddc2b1-5526-4a79-885b-3d4f2dc9ab73",
   "metadata": {},
   "outputs": [
    {
     "name": "stderr",
     "output_type": "stream",
     "text": [
      "C:\\ProgramData\\Miniconda3\\envs\\UWMGI\\lib\\site-packages\\tqdm\\auto.py:22: TqdmWarning: IProgress not found. Please update jupyter and ipywidgets. See https://ipywidgets.readthedocs.io/en/stable/user_install.html\n",
      "  from .autonotebook import tqdm as notebook_tqdm\n"
     ]
    }
   ],
   "source": [
    "import os\n",
    "import pandas as pd\n",
    "from torch.utils.data import Dataset\n",
    "from helper import rle_decode\n",
    "\n",
    "class CustomImageDataset(Dataset):\n",
    "    def __init__(self, dataset_path, transform=None):\n",
    "        dataset_path = \"../../../Dataset/uw-madison-gi-tract-image-segmentation/\"\n",
    "        self.df = create_metadata_table(dataset_path)\n",
    "\n",
    "    def __len__(self):\n",
    "        return len(self.df)\n",
    "\n",
    "    def __getitem__(self, idx):\n",
    "        img_path = self.df.loc[idx, \"img_path\"]\n",
    "        image = cv2.imread(img_path, -1)\n",
    "        masks = self.df.loc[idx, [\"large_bowel\", \"small_bowel\", \"stomach\"]]\n",
    "        \n",
    "        if self.transform:\n",
    "            image = self.transform(image)\n",
    "        if self.target_transform:\n",
    "            label = self.target_transform(label)\n",
    "        return image, label\n",
    "    \n",
    "    \n",
    "    def _create_mask_array(self, masks):\n",
    "        f"
   ]
  },
  {
   "cell_type": "code",
   "execution_count": 10,
   "id": "9889693f-e455-434d-b90d-e265dd23f845",
   "metadata": {},
   "outputs": [
    {
     "name": "stderr",
     "output_type": "stream",
     "text": [
      "  9%|██████▌                                                                     | 3318/38496 [00:12<02:16, 258.40it/s]\n"
     ]
    },
    {
     "ename": "KeyboardInterrupt",
     "evalue": "",
     "output_type": "error",
     "traceback": [
      "\u001b[1;31m---------------------------------------------------------------------------\u001b[0m",
      "\u001b[1;31mKeyboardInterrupt\u001b[0m                         Traceback (most recent call last)",
      "Input \u001b[1;32mIn [10]\u001b[0m, in \u001b[0;36m<cell line: 2>\u001b[1;34m()\u001b[0m\n\u001b[0;32m     16\u001b[0m         np_mask\u001b[38;5;241m.\u001b[39mappend(mask)\n\u001b[0;32m     17\u001b[0m     \u001b[38;5;28;01mreturn\u001b[39;00m np\u001b[38;5;241m.\u001b[39mstack(mask, axis\u001b[38;5;241m=\u001b[39m\u001b[38;5;241m-\u001b[39m\u001b[38;5;241m1\u001b[39m)\n\u001b[1;32m---> 19\u001b[0m mask \u001b[38;5;241m=\u001b[39m \u001b[43m_create_mask_array\u001b[49m\u001b[43m(\u001b[49m\u001b[43mmasks\u001b[49m\u001b[43m,\u001b[49m\u001b[43m \u001b[49m\u001b[43mmask_shape\u001b[49m\u001b[38;5;241;43m=\u001b[39;49m\u001b[43mimage\u001b[49m\u001b[38;5;241;43m.\u001b[39;49m\u001b[43mshape\u001b[49m\u001b[43m)\u001b[49m\n\u001b[0;32m     21\u001b[0m \u001b[38;5;28;01mif\u001b[39;00m mask\u001b[38;5;241m.\u001b[39msum() \u001b[38;5;241m>\u001b[39m \u001b[38;5;241m10\u001b[39m:\n\u001b[0;32m     22\u001b[0m     \u001b[38;5;28mprint\u001b[39m(idx)\n",
      "Input \u001b[1;32mIn [10]\u001b[0m, in \u001b[0;36m_create_mask_array\u001b[1;34m(masks, mask_shape)\u001b[0m\n\u001b[0;32m     15\u001b[0m         mask \u001b[38;5;241m=\u001b[39m np\u001b[38;5;241m.\u001b[39mzeros(mask_shape)\n\u001b[0;32m     16\u001b[0m     np_mask\u001b[38;5;241m.\u001b[39mappend(mask)\n\u001b[1;32m---> 17\u001b[0m \u001b[38;5;28;01mreturn\u001b[39;00m \u001b[43mnp\u001b[49m\u001b[38;5;241;43m.\u001b[39;49m\u001b[43mstack\u001b[49m\u001b[43m(\u001b[49m\u001b[43mmask\u001b[49m\u001b[43m,\u001b[49m\u001b[43m \u001b[49m\u001b[43maxis\u001b[49m\u001b[38;5;241;43m=\u001b[39;49m\u001b[38;5;241;43m-\u001b[39;49m\u001b[38;5;241;43m1\u001b[39;49m\u001b[43m)\u001b[49m\n",
      "File \u001b[1;32m<__array_function__ internals>:180\u001b[0m, in \u001b[0;36mstack\u001b[1;34m(*args, **kwargs)\u001b[0m\n",
      "File \u001b[1;32mC:\\ProgramData\\Miniconda3\\envs\\UWMGI\\lib\\site-packages\\numpy\\core\\shape_base.py:433\u001b[0m, in \u001b[0;36mstack\u001b[1;34m(arrays, axis, out)\u001b[0m\n\u001b[0;32m    431\u001b[0m sl \u001b[38;5;241m=\u001b[39m (\u001b[38;5;28mslice\u001b[39m(\u001b[38;5;28;01mNone\u001b[39;00m),) \u001b[38;5;241m*\u001b[39m axis \u001b[38;5;241m+\u001b[39m (_nx\u001b[38;5;241m.\u001b[39mnewaxis,)\n\u001b[0;32m    432\u001b[0m expanded_arrays \u001b[38;5;241m=\u001b[39m [arr[sl] \u001b[38;5;28;01mfor\u001b[39;00m arr \u001b[38;5;129;01min\u001b[39;00m arrays]\n\u001b[1;32m--> 433\u001b[0m \u001b[38;5;28;01mreturn\u001b[39;00m \u001b[43m_nx\u001b[49m\u001b[38;5;241;43m.\u001b[39;49m\u001b[43mconcatenate\u001b[49m\u001b[43m(\u001b[49m\u001b[43mexpanded_arrays\u001b[49m\u001b[43m,\u001b[49m\u001b[43m \u001b[49m\u001b[43maxis\u001b[49m\u001b[38;5;241;43m=\u001b[39;49m\u001b[43maxis\u001b[49m\u001b[43m,\u001b[49m\u001b[43m \u001b[49m\u001b[43mout\u001b[49m\u001b[38;5;241;43m=\u001b[39;49m\u001b[43mout\u001b[49m\u001b[43m)\u001b[49m\n",
      "File \u001b[1;32m<__array_function__ internals>:180\u001b[0m, in \u001b[0;36mconcatenate\u001b[1;34m(*args, **kwargs)\u001b[0m\n",
      "\u001b[1;31mKeyboardInterrupt\u001b[0m: "
     ]
    }
   ],
   "source": [
    "from tqdm import tqdm\n",
    "for i in tqdm(range(len(df))):\n",
    "    idx = 0\n",
    "    img_path = df.loc[idx, \"img_path\"]\n",
    "    masks = df.loc[idx, [\"large_bowel\", \"small_bowel\", \"stomach\"]]\n",
    "    image = cv2.imread(img_path, -1)\n",
    "    #print(image.shape)\n",
    "    def _create_mask_array(masks, mask_shape):\n",
    "        np_mask = list()\n",
    "        for mask in masks:\n",
    "            if not np.isnan(mask):\n",
    "                print(idx)\n",
    "                mask = rle_decode(mask, shape=mask_shape)\n",
    "            else:\n",
    "                mask = np.zeros(mask_shape)\n",
    "            np_mask.append(mask)\n",
    "        return np.stack(mask, axis=-1)\n",
    "\n",
    "    mask = _create_mask_array(masks, mask_shape=image.shape)\n",
    "    \n",
    "    if mask.sum() > 10:\n",
    "        print(idx)\n",
    "    idx += 1\n"
   ]
  },
  {
   "cell_type": "code",
   "execution_count": 20,
   "id": "79b52007-cb1c-4018-bb19-ce4b8e719857",
   "metadata": {},
   "outputs": [],
   "source": [
    "masks = df.loc[90, [\"large_bowel\", \"small_bowel\", \"stomach\"]]"
   ]
  },
  {
   "cell_type": "code",
   "execution_count": 25,
   "id": "89afbea0-8c75-4d28-bf93-2172f3e08c57",
   "metadata": {},
   "outputs": [
    {
     "data": {
      "text/plain": [
       "large_bowel    24422 2 24684 9 24949 12 25214 14 25479 16 257...\n",
       "small_bowel                                                  NaN\n",
       "stomach        18511 17 18774 24 19038 30 19303 34 19568 37 1...\n",
       "Name: 89, dtype: object"
      ]
     },
     "execution_count": 25,
     "metadata": {},
     "output_type": "execute_result"
    }
   ],
   "source": [
    "df.loc[89, [\"large_bowel\", \"small_bowel\", \"stomach\"]]"
   ]
  },
  {
   "cell_type": "code",
   "execution_count": 32,
   "id": "a572d0c3",
   "metadata": {},
   "outputs": [
    {
     "data": {
      "text/plain": [
       "False"
      ]
     },
     "execution_count": 32,
     "metadata": {},
     "output_type": "execute_result"
    }
   ],
   "source": [
    "df.loc[50, [\"large_bowel\", \"small_bowel\", \"stomach\"]].any()"
   ]
  },
  {
   "cell_type": "code",
   "execution_count": 23,
   "id": "1754a8cf",
   "metadata": {},
   "outputs": [
    {
     "data": {
      "text/plain": [
       "large_bowel    24687 4 24950 10 25215 13 25480 15 25745 17 26...\n",
       "small_bowel    25662 3 25927 5 26192 6 26458 10 26723 12 2698...\n",
       "stomach        18772 25 19036 32 19301 36 19566 40 19831 43 2...\n",
       "Name: 90, dtype: object"
      ]
     },
     "execution_count": 23,
     "metadata": {},
     "output_type": "execute_result"
    }
   ],
   "source": [
    "df.loc[50, [\"large_bowel\", \"small_bowel\", \"stomach\"]]"
   ]
  },
  {
   "cell_type": "code",
   "execution_count": null,
   "id": "f3fc5136",
   "metadata": {},
   "outputs": [],
   "source": []
  }
 ],
 "metadata": {
  "kernelspec": {
   "display_name": "Python 3",
   "language": "python",
   "name": "python3"
  },
  "language_info": {
   "codemirror_mode": {
    "name": "ipython",
    "version": 3
   },
   "file_extension": ".py",
   "mimetype": "text/x-python",
   "name": "python",
   "nbconvert_exporter": "python",
   "pygments_lexer": "ipython3",
   "version": "3.10.4"
  }
 },
 "nbformat": 4,
 "nbformat_minor": 5
}
